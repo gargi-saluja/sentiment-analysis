



import numpy as np
import pandas as pd
from sklearn.model_selection import train_test_split
from sklearn.feature_extraction.text import TfidfVectorizer
from sklearn.linear_model import LogisticRegression
from sklearn.metrics import accuracy_score, classification_report
import re
import string
import joblib
import os

print("All libraries imported successfully!")



dataset_url = "https://raw.githubusercontent.com/tristanga/sentiment-analysis/master/amazon_cells_labelled.txt"

print("Downloading dataset...")
df = pd.read_csv(dataset_url, sep='\t', header=None, names=['review', 'sentiment'])
print(f"Dataset loaded with {len(df)} reviews\n")


print("First 5 reviews:")
display(df.head())


def clean_text(text):
    
    text = text.lower()
    
  
    text = re.sub(r'http\S+', '', text)
    
  
    text = re.sub(r'<.*?>', '', text)
   
    text = text.translate(str.maketrans('', '', string.punctuation))
    
   
    text = re.sub(r'\d+', '', text)
    
   
    text = re.sub(r'\s+', ' ', text).strip()
    
    return text

print("Cleaning text data...")
df['cleaned_review'] = df['review'].apply(clean_text)


print("\nSample cleaned reviews:")
for i in range(3):
    print(f"Original: {df['review'].iloc[i]}")
    print(f"Cleaned: {df['cleaned_review'].iloc[i]}\n")


print("Creating TF-IDF features...")
tfidf = TfidfVectorizer(
    max_features=5000,
    stop_words='english',
    ngram_range=(1, 2)
)

tfidf_features = tfidf.fit_transform(df['cleaned_review'])
print(f"Created {tfidf_features.shape[1]} features from reviews")

# 5. Train-Test Split
X = tfidf_features
y = df['sentiment']

X_train, X_test, y_train, y_test = train_test_split(
    X, y,
    test_size=0.2,
    stratify=y,
    random_state=42
)

print(f"\nTraining samples: {X_train.shape[0]}")
print(f"Testing samples: {X_test.shape[0]}")


print("\nTraining Logistic Regression model...")
model = LogisticRegression(
    max_iter=1000,
    solver='lbfgs',
    random_state=42
)

model.fit(X_train, y_train)
print("Model training completed!")


y_pred = model.predict(X_test)

print("\nModel Evaluation:")
print("-----------------")
accuracy = accuracy_score(y_test, y_pred)
print(f"Accuracy: {accuracy:.2%}")

print("\nClassification Report:")
print(classification_report(y_test, y_pred))


print("\nTop Positive Words:")
positive_words = sorted(zip(tfidf.get_feature_names_out(), model.coef_[0]), 
                        key=lambda x: x[1], reverse=True)[:10]
for word, score in positive_words:
    print(f"{word}: {score:.4f}")

print("\nTop Negative Words:")
negative_words = sorted(zip(tfidf.get_feature_names_out(), model.coef_[0]), 
                        key=lambda x: x[1])[:10]
for word, score in negative_words:
    print(f"{word}: {score:.4f}")


print("\nSaving model artifacts...")
os.makedirs('models', exist_ok=True)
joblib.dump(model, 'models/sentiment_model.pkl')
joblib.dump(tfidf, 'models/tfidf_vectorizer.pkl')
print("Model saved to 'models/' directory")


!pip list > requirements.txt
print("\nrequirements.txt generated")

print("\nAll tasks completed successfully!")
