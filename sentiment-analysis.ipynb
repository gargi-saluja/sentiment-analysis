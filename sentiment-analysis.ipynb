{
 "cells": [
  {
   "cell_type": "code",
   "execution_count": null,
   "metadata": {},
   "outputs": [],
   "source": [
    "# Sentiment Analysis with NLP\n",
    "# TF-IDF + Logistic Regression Pipeline\n",
    "\n",
    "# 1. Import Required Libraries\n",
    "import numpy as np\n",
    "import pandas as pd\n",
    "from sklearn.model_selection import train_test_split\n",
    "from sklearn.feature_extraction.text import TfidfVectorizer\n",
    "from sklearn.linear_model import LogisticRegression\n",
    "from sklearn.metrics import accuracy_score, classification_report\n",
    "import re\n",
    "import string\n",
    "import joblib\n",
    "import os\n",
    "import nltk\n",
    "\n",
    "# Download NLTK resources\n",
    "nltk.download('stopwords', quiet=True)\n",
    "nltk.download('wordnet', quiet=True)\n",
    "nltk.download('omw-1.4', quiet=True)\n",
    "\n",
    "print(\"All libraries imported successfully!\")"
   ]
  },
  {
   "cell_type": "code",
   "execution_count": null,
   "metadata": {},
   "outputs": [],
   "source": [
    "# 2. Load Dataset\n",
    "print(\"Downloading dataset...\")\n",
    "dataset_url = \"https://raw.githubusercontent.com/tristanga/sentiment-analysis/master/amazon_cells_labelled.txt\"\n",
    "\n",
    "try:\n",
    "    df = pd.read_csv(dataset_url, sep='\\t', header=None, names=['review', 'sentiment'])\n",
    "    print(f\"Dataset loaded with {len(df)} reviews\\n\")\n",
    "except Exception as e:\n",
    "    print(f\"Error loading dataset: {e}\")\n",
    "    print(\"Using backup dataset...\")\n",
    "    data = {\n",
    "        'review': [\n",
    "            \"This product is amazing! I love it\",\n",
    "            \"Terrible experience, would not buy again\",\n",
    "            \"Average product, nothing special\",\n",
    "            \"Worth every penny, excellent quality\",\n",
    "            \"Broken on arrival, very disappointed\"\n",
    "        ],\n",
    "        'sentiment': [1, 0, 1, 1, 0]\n",
    "    }\n",
    "    df = pd.DataFrame(data)\n",
    "    print(\"Created backup dataset with sample reviews\")\n",
    "\n",
    "# Preview data\n",
    "print(\"First 5 reviews:\")\n",
    "print(df.head())"
   ]
  },
  {
   "cell_type": "code",
   "execution_count": null,
   "metadata": {},
   "outputs": [],
   "source": [
    "# 3. Text Preprocessing\n",
    "print(\"\\nCleaning text data...\")\n",
    "stop_words = set(nltk.corpus.stopwords.words('english'))\n",
    "lemmatizer = nltk.stem.WordNetLemmatizer()\n",
    "\n",
    "def clean_text(text):\n",
    "    text = text.lower()\n",
    "    text = re.sub(r'http\\S+', '', text)\n",
    "    text = re.sub(r'<.*?>', '', text)\n",
    "    text = text.translate(str.maketrans('', '', string.punctuation))\n",
    "    text = re.sub(r'\\d+', '', text)\n",
    "    text = re.sub(r'\\s+', ' ', text).strip()\n",
    "    tokens = text.split()\n",
    "    tokens = [lemmatizer.lemmatize(word) for word in tokens if word not in stop_words]\n",
    "    return ' '.join(tokens)\n",
    "\n",
    "df['cleaned_review'] = df['review'].apply(clean_text)\n",
    "\n",
    "print(\"\\nSample cleaned reviews:\")\n",
    "for i in range(min(3, len(df))):\n",
    "    print(f\"Original: {df['review'].iloc[i]}\")\n",
    "    print(f\"Cleaned: {df['cleaned_review'].iloc[i]}\\n\")"
   ]
  },
  {
   "cell_type": "code",
   "execution_count": null,
   "metadata": {},
   "outputs": [],
   "source": [
    "# 4. TF-IDF Vectorization\n",
    "print(\"Creating TF-IDF features...\")\n",
    "tfidf = TfidfVectorizer(\n",
    "    max_features=5000,\n",
    "    stop_words='english',\n",
    "    ngram_range=(1, 2)\n",
    ")\n",
    "tfidf_features = tfidf.fit_transform(df['cleaned_review'])\n",
    "print(f\"Created {tfidf_features.shape[1]} features from reviews\")"
   ]
  },
  {
   "cell_type": "code",
   "execution_count": null,
   "metadata": {},
   "outputs": [],
   "source": [
    "# 5. Train-Test Split\n",
    "X = tfidf_features\n",
    "y = df['sentiment']\n",
    "\n",
    "X_train, X_test, y_train, y_test = train_test_split(\n",
    "    X, y,\n",
    "    test_size=0.2,\n",
    "    stratify=y,\n",
    "    random_state=42\n",
    ")\n",
    "\n",
    "print(f\"\\nTraining samples: {X_train.shape[0]}\")\n",
    "print(f\"Testing samples: {X_test.shape[0]}\")"
   ]
  },
  {
   "cell_type": "code",
   "execution_count": null,
   "metadata": {},
   "outputs": [],
   "source": [
    "# 6. Train Logistic Regression Model\n",
    "print(\"\\nTraining Logistic Regression model...\")\n",
    "model = LogisticRegression(\n",
    "    max_iter=1000,\n",
    "    solver='lbfgs',\n",
    "    random_state=42\n",
    ")\n",
    "model.fit(X_train, y_train)\n",
    "print(\"Model training completed!\")"
   ]
  },
  {
   "cell_type": "code",
   "execution_count": null,
   "metadata": {},
   "outputs": [],
   "source": [
    "# 7. Model Evaluation\n",
    "y_pred = model.predict(X_test)\n",
    "\n",
    "print(\"\\nModel Evaluation:\")\n",
    "print(\"-----------------\")\n",
    "accuracy = accuracy_score(y_test, y_pred)\n",
    "print(f\"Accuracy: {accuracy:.2%}\")\n",
    "\n",
    "print(\"\\nClassification Report:\")\n",
    "print(classification_report(y_test, y_pred))\n",
    "\n",
    "# 8. Show Important Features\n",
    "print(\"\\nTop Positive Words:\")\n",
    "feature_names = tfidf.get_feature_names_out()\n",
    "coef = model.coef_[0]\n",
    "positive_words = sorted(zip(feature_names, coef), key=lambda x: x[1], reverse=True)[:10]\n",
    "for word, score in positive_words:\n",
    "    print(f\"{word}: {score:.4f}\")\n",
    "\n",
    "print(\"\\nTop Negative Words:\")\n",
    "negative_words = sorted(zip(feature_names, coef), key=lambda x: x[1])[:10]\n",
    "for word, score in negative_words:\n",
    "    print(f\"{word}: {score:.4f}\")"
   ]
  },
  {
   "cell_type": "code",
   "execution_count": null,
   "metadata": {},
   "outputs": [],
   "source": [
    "# 9. Save Model and Create Folder Structure\n",
    "print(\"\\nSaving model artifacts...\")\n",
    "os.makedirs('models', exist_ok=True)\n",
    "\n",
    "# Create placeholder file to preserve folder structure\n",
    "with open('models/.gitkeep', 'w') as f:\n",
    "    f.write('Preserving folder structure for GitHub')\n",
    "\n",
    "# Save models\n",
    "joblib.dump(model, 'models/sentiment_model.pkl')\n",
    "joblib.dump(tfidf, 'models/tfidf_vectorizer.pkl')\n",
    "print(\"Model saved to 'models/' directory\")"
   ]
  },
  {
   "cell_type": "code",
   "execution_count": null,
   "metadata": {},
   "outputs": [],
   "source": [
    "# 10. Generate Requirements\n",
    "# Create requirements.txt manually since !pip commands might not work in all environments\n",
    "requirements = \"\"\"pandas==2.2.1\n",
    "scikit-learn==1.4.2\n",
    "nltk==3.8.1\n",
    "joblib==1.3.2\n",
    "numpy==1.26.4\n",
    "matplotlib==3.8.3\"\"\"\n",
    "\n",
    "with open('requirements.txt', 'w') as f:\n",
    "    f.write(requirements)\n",
    "    \n",
    "print(\"\\nrequirements.txt generated\")\n",
    "print(\"\\nAll tasks completed successfully!\")"
   ]
  }
 ],
 "metadata": {
  "kernelspec": {
   "display_name": "Python 3 (ipykernel)",
   "language": "python",
   "name": "python3"
  },
  "language_info": {
   "codemirror_mode": {
    "name": "ipython",
    "version": 3
   },
   "file_extension": ".py",
   "mimetype": "text/x-python",
   "name": "python",
   "nbconvert_exporter": "python",
   "pygments_lexer": "ipython3",
   "version": "3.11.5"
  }
 },
 "nbformat": 4,
 "nbformat_minor": 4
}
